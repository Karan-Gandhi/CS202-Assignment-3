{
 "cells": [
  {
   "cell_type": "code",
   "execution_count": null,
   "id": "dd85d3f6",
   "metadata": {},
   "outputs": [
    {
     "name": "stderr",
     "output_type": "stream",
     "text": [
      "d:\\SDKs\\miniconda3\\envs\\cs202\\Lib\\site-packages\\tqdm\\auto.py:21: TqdmWarning: IProgress not found. Please update jupyter and ipywidgets. See https://ipywidgets.readthedocs.io/en/stable/user_install.html\n",
      "  from .autonotebook import tqdm as notebook_tqdm\n"
     ]
    }
   ],
   "source": [
    "import torch\n",
    "import sacrebleu\n",
    "import numpy as np\n",
    "import pandas as pd\n",
    "from matplotlib import pyplot as plt\n",
    "from tqdm import tqdm\n",
    "from radon.complexity import cc_visit\n",
    "from radon.metrics import mi_visit\n",
    "from radon.raw import analyze\n",
    "from transformers import AutoTokenizer, AutoModel"
   ]
  },
  {
   "cell_type": "code",
   "execution_count": 2,
   "id": "525a6cc1",
   "metadata": {},
   "outputs": [],
   "source": [
    "bugfix_files = pd.read_csv('bugfix_commit_files.csv', escapechar='\\\\')\n",
    "bugfix_files.fillna('', inplace=True)"
   ]
  },
  {
   "cell_type": "code",
   "execution_count": 3,
   "id": "b448bd45",
   "metadata": {},
   "outputs": [
    {
     "data": {
      "text/html": [
       "<div>\n",
       "<style scoped>\n",
       "    .dataframe tbody tr th:only-of-type {\n",
       "        vertical-align: middle;\n",
       "    }\n",
       "\n",
       "    .dataframe tbody tr th {\n",
       "        vertical-align: top;\n",
       "    }\n",
       "\n",
       "    .dataframe thead th {\n",
       "        text-align: right;\n",
       "    }\n",
       "</style>\n",
       "<table border=\"1\" class=\"dataframe\">\n",
       "  <thead>\n",
       "    <tr style=\"text-align: right;\">\n",
       "      <th></th>\n",
       "      <th>Hash</th>\n",
       "      <th>Message</th>\n",
       "      <th>Filename</th>\n",
       "      <th>Source Code (Before)</th>\n",
       "      <th>Source Code (current)</th>\n",
       "      <th>Diff</th>\n",
       "      <th>LLM Inference</th>\n",
       "      <th>Rectified Message</th>\n",
       "    </tr>\n",
       "  </thead>\n",
       "  <tbody>\n",
       "    <tr>\n",
       "      <th>0</th>\n",
       "      <td>014a277a97759bbc0e6ec8fba588bc6e6de65a86</td>\n",
       "      <td>A few fixes to initial point_thickness impleme...</td>\n",
       "      <td>constants.py</td>\n",
       "      <td>import os\\nimport numpy as np\\n\\n\\nGENERALLY_B...</td>\n",
       "      <td>import os\\nimport numpy as np\\n\\nPRODUCTION_QU...</td>\n",
       "      <td>@@ -1,9 +1,6 @@\\n import os\\n import numpy as ...</td>\n",
       "      <td>add more examples to the example</td>\n",
       "      <td>A few fixes to initial point_thickness impleme...</td>\n",
       "    </tr>\n",
       "    <tr>\n",
       "      <th>1</th>\n",
       "      <td>014a277a97759bbc0e6ec8fba588bc6e6de65a86</td>\n",
       "      <td>A few fixes to initial point_thickness impleme...</td>\n",
       "      <td>displayer.py</td>\n",
       "      <td>import numpy as np\\nimport itertools as it\\nim...</td>\n",
       "      <td>import numpy as np\\nimport itertools as it\\nim...</td>\n",
       "      <td>@@ -55,7 +55,7 @@ def paint_mobjects(mobjects,...</td>\n",
       "      <td>add nudge to the thickness calculation</td>\n",
       "      <td>A few fixes to initial point_thickness impleme...</td>\n",
       "    </tr>\n",
       "    <tr>\n",
       "      <th>2</th>\n",
       "      <td>014a277a97759bbc0e6ec8fba588bc6e6de65a86</td>\n",
       "      <td>A few fixes to initial point_thickness impleme...</td>\n",
       "      <td>mobject.py</td>\n",
       "      <td>import numpy as np\\nimport itertools as it\\nim...</td>\n",
       "      <td>import numpy as np\\nimport itertools as it\\nim...</td>\n",
       "      <td>@@ -21,7 +21,7 @@ class Mobject(object):\\n    ...</td>\n",
       "      <td>add missing docstring</td>\n",
       "      <td>Update configuration inheritance in Mobject cl...</td>\n",
       "    </tr>\n",
       "    <tr>\n",
       "      <th>3</th>\n",
       "      <td>ac930952f151acf284f6e01e98e8f7256f29f9f4</td>\n",
       "      <td>Beginning transform KA article, many small fix...</td>\n",
       "      <td>animation.py</td>\n",
       "      <td>from PIL import Image\\nfrom colour import Colo...</td>\n",
       "      <td>from PIL import Image\\nfrom colour import Colo...</td>\n",
       "      <td>@@ -4,7 +4,6 @@ import numpy as np\\n import wa...</td>\n",
       "      <td>add missing code in animation</td>\n",
       "      <td>Update starting_mobject initialization in Anim...</td>\n",
       "    </tr>\n",
       "    <tr>\n",
       "      <th>4</th>\n",
       "      <td>ac930952f151acf284f6e01e98e8f7256f29f9f4</td>\n",
       "      <td>Beginning transform KA article, many small fix...</td>\n",
       "      <td>meta_animations.py</td>\n",
       "      <td>import numpy as np\\nimport itertools as it\\nfr...</td>\n",
       "      <td>import numpy as np\\nimport itertools as it\\n\\n...</td>\n",
       "      <td>@@ -1,6 +1,5 @@\\n import numpy as np\\n import ...</td>\n",
       "      <td>add missing import</td>\n",
       "      <td>add missing import</td>\n",
       "    </tr>\n",
       "  </tbody>\n",
       "</table>\n",
       "</div>"
      ],
      "text/plain": [
       "                                       Hash  \\\n",
       "0  014a277a97759bbc0e6ec8fba588bc6e6de65a86   \n",
       "1  014a277a97759bbc0e6ec8fba588bc6e6de65a86   \n",
       "2  014a277a97759bbc0e6ec8fba588bc6e6de65a86   \n",
       "3  ac930952f151acf284f6e01e98e8f7256f29f9f4   \n",
       "4  ac930952f151acf284f6e01e98e8f7256f29f9f4   \n",
       "\n",
       "                                             Message            Filename  \\\n",
       "0  A few fixes to initial point_thickness impleme...        constants.py   \n",
       "1  A few fixes to initial point_thickness impleme...        displayer.py   \n",
       "2  A few fixes to initial point_thickness impleme...          mobject.py   \n",
       "3  Beginning transform KA article, many small fix...        animation.py   \n",
       "4  Beginning transform KA article, many small fix...  meta_animations.py   \n",
       "\n",
       "                                Source Code (Before)  \\\n",
       "0  import os\\nimport numpy as np\\n\\n\\nGENERALLY_B...   \n",
       "1  import numpy as np\\nimport itertools as it\\nim...   \n",
       "2  import numpy as np\\nimport itertools as it\\nim...   \n",
       "3  from PIL import Image\\nfrom colour import Colo...   \n",
       "4  import numpy as np\\nimport itertools as it\\nfr...   \n",
       "\n",
       "                               Source Code (current)  \\\n",
       "0  import os\\nimport numpy as np\\n\\nPRODUCTION_QU...   \n",
       "1  import numpy as np\\nimport itertools as it\\nim...   \n",
       "2  import numpy as np\\nimport itertools as it\\nim...   \n",
       "3  from PIL import Image\\nfrom colour import Colo...   \n",
       "4  import numpy as np\\nimport itertools as it\\n\\n...   \n",
       "\n",
       "                                                Diff  \\\n",
       "0  @@ -1,9 +1,6 @@\\n import os\\n import numpy as ...   \n",
       "1  @@ -55,7 +55,7 @@ def paint_mobjects(mobjects,...   \n",
       "2  @@ -21,7 +21,7 @@ class Mobject(object):\\n    ...   \n",
       "3  @@ -4,7 +4,6 @@ import numpy as np\\n import wa...   \n",
       "4  @@ -1,6 +1,5 @@\\n import numpy as np\\n import ...   \n",
       "\n",
       "                            LLM Inference  \\\n",
       "0        add more examples to the example   \n",
       "1  add nudge to the thickness calculation   \n",
       "2                   add missing docstring   \n",
       "3           add missing code in animation   \n",
       "4                      add missing import   \n",
       "\n",
       "                                   Rectified Message  \n",
       "0  A few fixes to initial point_thickness impleme...  \n",
       "1  A few fixes to initial point_thickness impleme...  \n",
       "2  Update configuration inheritance in Mobject cl...  \n",
       "3  Update starting_mobject initialization in Anim...  \n",
       "4                                 add missing import  "
      ]
     },
     "execution_count": 3,
     "metadata": {},
     "output_type": "execute_result"
    }
   ],
   "source": [
    "bugfix_files.head()"
   ]
  },
  {
   "cell_type": "code",
   "execution_count": 4,
   "id": "1602e7a9",
   "metadata": {},
   "outputs": [
    {
     "data": {
      "text/html": [
       "<div>\n",
       "<style scoped>\n",
       "    .dataframe tbody tr th:only-of-type {\n",
       "        vertical-align: middle;\n",
       "    }\n",
       "\n",
       "    .dataframe tbody tr th {\n",
       "        vertical-align: top;\n",
       "    }\n",
       "\n",
       "    .dataframe thead th {\n",
       "        text-align: right;\n",
       "    }\n",
       "</style>\n",
       "<table border=\"1\" class=\"dataframe\">\n",
       "  <thead>\n",
       "    <tr style=\"text-align: right;\">\n",
       "      <th></th>\n",
       "      <th>Value</th>\n",
       "    </tr>\n",
       "  </thead>\n",
       "  <tbody>\n",
       "    <tr>\n",
       "      <th>Total Bugfix Commits</th>\n",
       "      <td>838.000000</td>\n",
       "    </tr>\n",
       "    <tr>\n",
       "      <th>Total Bugfix commit Modified files</th>\n",
       "      <td>1432.000000</td>\n",
       "    </tr>\n",
       "    <tr>\n",
       "      <th>Average number of files changed per commit</th>\n",
       "      <td>1.708831</td>\n",
       "    </tr>\n",
       "  </tbody>\n",
       "</table>\n",
       "</div>"
      ],
      "text/plain": [
       "                                                  Value\n",
       "Total Bugfix Commits                         838.000000\n",
       "Total Bugfix commit Modified files          1432.000000\n",
       "Average number of files changed per commit     1.708831"
      ]
     },
     "execution_count": 4,
     "metadata": {},
     "output_type": "execute_result"
    }
   ],
   "source": [
    "info = pd.DataFrame({\n",
    "\t\"Total Bugfix Commits\": [int(bugfix_files['Hash'].nunique())],\n",
    "\t\"Total Bugfix commit Modified files\": [int(len(bugfix_files))],\n",
    "\t\"Average number of files changed per commit\": [float(bugfix_files.groupby('Hash').size().mean())]\n",
    "}).T\n",
    "\n",
    "info.columns = ['Value']\n",
    "info"
   ]
  },
  {
   "cell_type": "code",
   "execution_count": 5,
   "id": "8e708b9c",
   "metadata": {},
   "outputs": [
    {
     "data": {
      "image/png": "[encoded data removed]",
      "text/plain": [
       "<Figure size 640x480 with 1 Axes>"
      ]
     },
     "metadata": {},
     "output_type": "display_data"
    }
   ],
   "source": [
    "word_count = {}\n",
    "\n",
    "for index, row in bugfix_files.iterrows():\n",
    "    for word in row['LLM Inference'].split():\n",
    "        word = word.lower()\n",
    "        word_count[word] = word_count.get(word, 0) + 1\n",
    "\n",
    "# Sort the word count dictionary by values in descending order and get top 5\n",
    "# Filter out 'to' and 'the' from word_count before sorting\n",
    "filtered_word_count = {word: count for word, count in word_count.items() if word not in ['to', 'the', 'more', 'for', 'in', 'scene']}\n",
    "top_5_words = sorted(filtered_word_count.items(), key=lambda x: x[1], reverse=True)[:5]\n",
    "\n",
    "# Create a DataFrame for plotting\n",
    "top_5_df = pd.DataFrame(top_5_words, columns=['Word', 'Count'])\n",
    "\n",
    "# Plot the top 5 words\n",
    "top_5_df.plot(x='Word', y='Count', kind='bar', title='Top 5 Most Frequent commit types')\n",
    "plt.yscale('log')"
   ]
  },
  {
   "cell_type": "code",
   "execution_count": 6,
   "id": "57fbf254",
   "metadata": {},
   "outputs": [
    {
     "data": {
      "text/html": [
       "<div>\n",
       "<style scoped>\n",
       "    .dataframe tbody tr th:only-of-type {\n",
       "        vertical-align: middle;\n",
       "    }\n",
       "\n",
       "    .dataframe tbody tr th {\n",
       "        vertical-align: top;\n",
       "    }\n",
       "\n",
       "    .dataframe thead th {\n",
       "        text-align: right;\n",
       "    }\n",
       "</style>\n",
       "<table border=\"1\" class=\"dataframe\">\n",
       "  <thead>\n",
       "    <tr style=\"text-align: right;\">\n",
       "      <th></th>\n",
       "      <th>Word</th>\n",
       "      <th>Count</th>\n",
       "    </tr>\n",
       "  </thead>\n",
       "  <tbody>\n",
       "    <tr>\n",
       "      <th>0</th>\n",
       "      <td>add</td>\n",
       "      <td>1196</td>\n",
       "    </tr>\n",
       "    <tr>\n",
       "      <th>1</th>\n",
       "      <td>missing</td>\n",
       "      <td>514</td>\n",
       "    </tr>\n",
       "    <tr>\n",
       "      <th>2</th>\n",
       "      <td>fix</td>\n",
       "      <td>178</td>\n",
       "    </tr>\n",
       "    <tr>\n",
       "      <th>3</th>\n",
       "      <td>example</td>\n",
       "      <td>135</td>\n",
       "    </tr>\n",
       "    <tr>\n",
       "      <th>4</th>\n",
       "      <td>import</td>\n",
       "      <td>85</td>\n",
       "    </tr>\n",
       "  </tbody>\n",
       "</table>\n",
       "</div>"
      ],
      "text/plain": [
       "      Word  Count\n",
       "0      add   1196\n",
       "1  missing    514\n",
       "2      fix    178\n",
       "3  example    135\n",
       "4   import     85"
      ]
     },
     "execution_count": 6,
     "metadata": {},
     "output_type": "execute_result"
    }
   ],
   "source": [
    "top_5_df"
   ]
  },
  {
   "cell_type": "code",
   "execution_count": 7,
   "id": "45c8c548",
   "metadata": {},
   "outputs": [
    {
     "data": {
      "text/plain": [
       "Text(0, 0.5, 'Count (log scale)')"
      ]
     },
     "execution_count": 7,
     "metadata": {},
     "output_type": "execute_result"
    },
    {
     "data": {
      "image/png": "[encoded data removed]",
      "text/plain": [
       "<Figure size 1000x600 with 1 Axes>"
      ]
     },
     "metadata": {},
     "output_type": "display_data"
    }
   ],
   "source": [
    "file_extension_counts = {}\n",
    "\n",
    "for index, row in bugfix_files.iterrows():\n",
    "    if '.' not in row['Filename']:\n",
    "        continue\n",
    "    file_extension = row['Filename'].split('.')[-1]\n",
    "    file_extension_counts[file_extension] = file_extension_counts.get(file_extension, 0) + 1\n",
    "\n",
    "# Create a DataFrame for plotting\n",
    "file_extension_df = pd.DataFrame(file_extension_counts.items(), columns=['File Extension', 'Count'])\n",
    "\n",
    "# Plot the file extensions\n",
    "file_extension_df.plot(x='File Extension', y='Count', kind='bar', title='File Extensions in Bug Fixes', figsize=(10, 6))\n",
    "plt.yscale('log')\n",
    "plt.ylabel('Count (log scale)')"
   ]
  },
  {
   "cell_type": "code",
   "execution_count": 12,
   "id": "09da0f7f",
   "metadata": {},
   "outputs": [
    {
     "name": "stderr",
     "output_type": "stream",
     "text": [
      "100%|██████████| 1432/1432 [03:12<00:00,  7.44it/s]\n"
     ]
    }
   ],
   "source": [
    "def compute_metrics(code):\n",
    "\ttry:\n",
    "\t\tcc = sum(block.complexity for block in cc_visit(code))\n",
    "\t\tmi = mi_visit(code, True)\n",
    "\t\tloc = analyze(code).loc\n",
    "\t\treturn cc, mi, loc\n",
    "\texcept Exception as e:\n",
    "\t\t# print(f\"Error computing metrics: {e}\")\n",
    "\t\treturn 0, 0, 0\n",
    "\n",
    "for index, row in tqdm(bugfix_files.iterrows(), total=len(bugfix_files)):\n",
    "\tcc_before, mi_before, loc_before = compute_metrics(bugfix_files.at[index, 'Source Code (Before)'])\n",
    "\tcc_after, mi_after, loc_after = compute_metrics(bugfix_files.at[index, 'Source Code (current)'])\n",
    "\tbugfix_files.at[index, 'MI_Change'] = mi_after - mi_before\n",
    "\tbugfix_files.at[index, 'CC_Change'] = cc_after - cc_before\n",
    "\tbugfix_files.at[index, 'LOC_Change'] = loc_after - loc_before"
   ]
  },
  {
   "cell_type": "code",
   "execution_count": 9,
   "id": "267994af",
   "metadata": {},
   "outputs": [],
   "source": [
    "bugfix_files.to_csv(\"bugfix_commit_files_MI_CC_LOC_Added.csv\")"
   ]
  },
  {
   "cell_type": "code",
   "execution_count": 11,
   "id": "61706433",
   "metadata": {},
   "outputs": [
    {
     "data": {
      "image/png": "[encoded data removed]",
      "text/plain": [
       "<Figure size 640x480 with 1 Axes>"
      ]
     },
     "metadata": {},
     "output_type": "display_data"
    },
    {
     "data": {
      "image/png": "[encoded data removed]",
      "text/plain": [
       "<Figure size 640x480 with 1 Axes>"
      ]
     },
     "metadata": {},
     "output_type": "display_data"
    },
    {
     "data": {
      "image/png": "[encoded data removed]",
      "text/plain": [
       "<Figure size 640x480 with 1 Axes>"
      ]
     },
     "metadata": {},
     "output_type": "display_data"
    }
   ],
   "source": [
    "non_zero_mi = bugfix_files[bugfix_files['MI_Change'] != 0]['MI_Change']\n",
    "non_zero_cc = bugfix_files[bugfix_files['CC_Change'] != 0]['CC_Change']\n",
    "non_zero_loc = bugfix_files[bugfix_files['LOC_Change'] != 0]['LOC_Change']\n",
    "\n",
    "plt.hist(non_zero_mi, bins=30)\n",
    "plt.title('Maintainability Index Change Distribution')\n",
    "plt.xlabel('MI Change')\n",
    "plt.ylabel('Frequency')\n",
    "plt.yscale('log')\n",
    "plt.show()\n",
    "\n",
    "plt.hist(non_zero_cc, bins=30)\n",
    "plt.title('Cyclomatic Complexity Change Distribution')\n",
    "plt.xlabel('CC Change')\n",
    "plt.ylabel('Frequency')\n",
    "plt.yscale('log')\n",
    "plt.show()\n",
    "\n",
    "plt.hist(non_zero_loc, bins=30)\n",
    "plt.title('Lines of Code Change Distribution')\n",
    "plt.xlabel('LOC Change')\n",
    "plt.ylabel('Frequency')\n",
    "plt.yscale('log')\n",
    "plt.show()"
   ]
  },
  {
   "cell_type": "code",
   "execution_count": null,
   "id": "5b5c0cc3",
   "metadata": {},
   "outputs": [
    {
     "name": "stderr",
     "output_type": "stream",
     "text": [
      "100%|██████████| 1432/1432 [03:11<00:00,  7.47it/s]\n"
     ]
    }
   ],
   "source": [
    "tokenizer = AutoTokenizer.from_pretrained(\"microsoft/codebert-base\")\n",
    "model = AutoModel.from_pretrained(\"microsoft/codebert-base\").cuda()\n",
    "\n",
    "def cosine_similarity(a, b):\n",
    "    return (a * b).sum() / (np.linalg.norm(a) * np.linalg.norm(b))\n",
    "\n",
    "for index, row in tqdm(bugfix_files.iterrows(), total=len(bugfix_files)):\n",
    "    before = tokenizer(\"<s>\" + row['Source Code (Before)'] + \"</s>\", return_tensors=\"pt\", padding=True, truncation=True).to(model.device)\n",
    "    after = tokenizer(\"<s>\" + row['Source Code (current)'] + \"</s>\", return_tensors=\"pt\", padding=True, truncation=True).to(model.device)\n",
    "\n",
    "    with torch.no_grad():\n",
    "        before_emb = model(**before).last_hidden_state.mean(dim=1).cpu().numpy()\n",
    "        after_emb = model(**after).last_hidden_state.mean(dim=1).cpu().numpy()\n",
    "    bugfix_files.at[index, 'Semantic_Similarity'] = cosine_similarity(before_emb, after_emb)\n",
    "    bugfix_files.at[index, 'Token_Similarity'] = sacrebleu.corpus_bleu([row['Source Code (current)']], [[row['Source Code (Before)']]]).score / 100.0"
   ]
  },
  {
   "cell_type": "code",
   "execution_count": 11,
   "id": "ba89a95c",
   "metadata": {},
   "outputs": [
    {
     "data": {
      "text/html": [
       "<div>\n",
       "<style scoped>\n",
       "    .dataframe tbody tr th:only-of-type {\n",
       "        vertical-align: middle;\n",
       "    }\n",
       "\n",
       "    .dataframe tbody tr th {\n",
       "        vertical-align: top;\n",
       "    }\n",
       "\n",
       "    .dataframe thead th {\n",
       "        text-align: right;\n",
       "    }\n",
       "</style>\n",
       "<table border=\"1\" class=\"dataframe\">\n",
       "  <thead>\n",
       "    <tr style=\"text-align: right;\">\n",
       "      <th></th>\n",
       "      <th>Hash</th>\n",
       "      <th>Message</th>\n",
       "      <th>Filename</th>\n",
       "      <th>Source Code (Before)</th>\n",
       "      <th>Source Code (current)</th>\n",
       "      <th>Diff</th>\n",
       "      <th>LLM Inference</th>\n",
       "      <th>Rectified Message</th>\n",
       "      <th>MI_Change</th>\n",
       "      <th>CC_Change</th>\n",
       "      <th>LOC_Change</th>\n",
       "      <th>Semantic_Similarity</th>\n",
       "      <th>Token_Similarity</th>\n",
       "    </tr>\n",
       "  </thead>\n",
       "  <tbody>\n",
       "    <tr>\n",
       "      <th>0</th>\n",
       "      <td>014a277a97759bbc0e6ec8fba588bc6e6de65a86</td>\n",
       "      <td>A few fixes to initial point_thickness impleme...</td>\n",
       "      <td>constants.py</td>\n",
       "      <td>import os\\nimport numpy as np\\n\\n\\nGENERALLY_B...</td>\n",
       "      <td>import os\\nimport numpy as np\\n\\nPRODUCTION_QU...</td>\n",
       "      <td>@@ -1,9 +1,6 @@\\n import os\\n import numpy as ...</td>\n",
       "      <td>add more examples to the example</td>\n",
       "      <td>A few fixes to initial point_thickness impleme...</td>\n",
       "      <td>0.000000</td>\n",
       "      <td>0.0</td>\n",
       "      <td>-1.0</td>\n",
       "      <td>0.999902</td>\n",
       "      <td>0.988357</td>\n",
       "    </tr>\n",
       "    <tr>\n",
       "      <th>1</th>\n",
       "      <td>014a277a97759bbc0e6ec8fba588bc6e6de65a86</td>\n",
       "      <td>A few fixes to initial point_thickness impleme...</td>\n",
       "      <td>displayer.py</td>\n",
       "      <td>import numpy as np\\nimport itertools as it\\nim...</td>\n",
       "      <td>import numpy as np\\nimport itertools as it\\nim...</td>\n",
       "      <td>@@ -55,7 +55,7 @@ def paint_mobjects(mobjects,...</td>\n",
       "      <td>add nudge to the thickness calculation</td>\n",
       "      <td>A few fixes to initial point_thickness impleme...</td>\n",
       "      <td>0.000000</td>\n",
       "      <td>0.0</td>\n",
       "      <td>0.0</td>\n",
       "      <td>1.000000</td>\n",
       "      <td>0.951255</td>\n",
       "    </tr>\n",
       "    <tr>\n",
       "      <th>2</th>\n",
       "      <td>014a277a97759bbc0e6ec8fba588bc6e6de65a86</td>\n",
       "      <td>A few fixes to initial point_thickness impleme...</td>\n",
       "      <td>mobject.py</td>\n",
       "      <td>import numpy as np\\nimport itertools as it\\nim...</td>\n",
       "      <td>import numpy as np\\nimport itertools as it\\nim...</td>\n",
       "      <td>@@ -21,7 +21,7 @@ class Mobject(object):\\n    ...</td>\n",
       "      <td>add missing docstring</td>\n",
       "      <td>Update configuration inheritance in Mobject cl...</td>\n",
       "      <td>0.000000</td>\n",
       "      <td>0.0</td>\n",
       "      <td>0.0</td>\n",
       "      <td>0.999808</td>\n",
       "      <td>0.997525</td>\n",
       "    </tr>\n",
       "    <tr>\n",
       "      <th>3</th>\n",
       "      <td>ac930952f151acf284f6e01e98e8f7256f29f9f4</td>\n",
       "      <td>Beginning transform KA article, many small fix...</td>\n",
       "      <td>animation.py</td>\n",
       "      <td>from PIL import Image\\nfrom colour import Colo...</td>\n",
       "      <td>from PIL import Image\\nfrom colour import Colo...</td>\n",
       "      <td>@@ -4,7 +4,6 @@ import numpy as np\\n import wa...</td>\n",
       "      <td>add missing code in animation</td>\n",
       "      <td>Update starting_mobject initialization in Anim...</td>\n",
       "      <td>0.225313</td>\n",
       "      <td>0.0</td>\n",
       "      <td>-1.0</td>\n",
       "      <td>0.999607</td>\n",
       "      <td>0.987431</td>\n",
       "    </tr>\n",
       "    <tr>\n",
       "      <th>4</th>\n",
       "      <td>ac930952f151acf284f6e01e98e8f7256f29f9f4</td>\n",
       "      <td>Beginning transform KA article, many small fix...</td>\n",
       "      <td>meta_animations.py</td>\n",
       "      <td>import numpy as np\\nimport itertools as it\\nfr...</td>\n",
       "      <td>import numpy as np\\nimport itertools as it\\n\\n...</td>\n",
       "      <td>@@ -1,6 +1,5 @@\\n import numpy as np\\n import ...</td>\n",
       "      <td>add missing import</td>\n",
       "      <td>add missing import</td>\n",
       "      <td>0.268985</td>\n",
       "      <td>0.0</td>\n",
       "      <td>-1.0</td>\n",
       "      <td>0.999841</td>\n",
       "      <td>0.994031</td>\n",
       "    </tr>\n",
       "  </tbody>\n",
       "</table>\n",
       "</div>"
      ],
      "text/plain": [
       "                                       Hash  \\\n",
       "0  014a277a97759bbc0e6ec8fba588bc6e6de65a86   \n",
       "1  014a277a97759bbc0e6ec8fba588bc6e6de65a86   \n",
       "2  014a277a97759bbc0e6ec8fba588bc6e6de65a86   \n",
       "3  ac930952f151acf284f6e01e98e8f7256f29f9f4   \n",
       "4  ac930952f151acf284f6e01e98e8f7256f29f9f4   \n",
       "\n",
       "                                             Message            Filename  \\\n",
       "0  A few fixes to initial point_thickness impleme...        constants.py   \n",
       "1  A few fixes to initial point_thickness impleme...        displayer.py   \n",
       "2  A few fixes to initial point_thickness impleme...          mobject.py   \n",
       "3  Beginning transform KA article, many small fix...        animation.py   \n",
       "4  Beginning transform KA article, many small fix...  meta_animations.py   \n",
       "\n",
       "                                Source Code (Before)  \\\n",
       "0  import os\\nimport numpy as np\\n\\n\\nGENERALLY_B...   \n",
       "1  import numpy as np\\nimport itertools as it\\nim...   \n",
       "2  import numpy as np\\nimport itertools as it\\nim...   \n",
       "3  from PIL import Image\\nfrom colour import Colo...   \n",
       "4  import numpy as np\\nimport itertools as it\\nfr...   \n",
       "\n",
       "                               Source Code (current)  \\\n",
       "0  import os\\nimport numpy as np\\n\\nPRODUCTION_QU...   \n",
       "1  import numpy as np\\nimport itertools as it\\nim...   \n",
       "2  import numpy as np\\nimport itertools as it\\nim...   \n",
       "3  from PIL import Image\\nfrom colour import Colo...   \n",
       "4  import numpy as np\\nimport itertools as it\\n\\n...   \n",
       "\n",
       "                                                Diff  \\\n",
       "0  @@ -1,9 +1,6 @@\\n import os\\n import numpy as ...   \n",
       "1  @@ -55,7 +55,7 @@ def paint_mobjects(mobjects,...   \n",
       "2  @@ -21,7 +21,7 @@ class Mobject(object):\\n    ...   \n",
       "3  @@ -4,7 +4,6 @@ import numpy as np\\n import wa...   \n",
       "4  @@ -1,6 +1,5 @@\\n import numpy as np\\n import ...   \n",
       "\n",
       "                            LLM Inference  \\\n",
       "0        add more examples to the example   \n",
       "1  add nudge to the thickness calculation   \n",
       "2                   add missing docstring   \n",
       "3           add missing code in animation   \n",
       "4                      add missing import   \n",
       "\n",
       "                                   Rectified Message  MI_Change  CC_Change  \\\n",
       "0  A few fixes to initial point_thickness impleme...   0.000000        0.0   \n",
       "1  A few fixes to initial point_thickness impleme...   0.000000        0.0   \n",
       "2  Update configuration inheritance in Mobject cl...   0.000000        0.0   \n",
       "3  Update starting_mobject initialization in Anim...   0.225313        0.0   \n",
       "4                                 add missing import   0.268985        0.0   \n",
       "\n",
       "   LOC_Change  Semantic_Similarity  Token_Similarity  \n",
       "0        -1.0             0.999902          0.988357  \n",
       "1         0.0             1.000000          0.951255  \n",
       "2         0.0             0.999808          0.997525  \n",
       "3        -1.0             0.999607          0.987431  \n",
       "4        -1.0             0.999841          0.994031  "
      ]
     },
     "execution_count": 11,
     "metadata": {},
     "output_type": "execute_result"
    }
   ],
   "source": [
    "bugfix_files.head()"
   ]
  },
  {
   "cell_type": "code",
   "execution_count": 18,
   "id": "666c582c",
   "metadata": {},
   "outputs": [
    {
     "data": {
      "image/png": "[encoded data removed]",
      "text/plain": [
       "<Figure size 640x480 with 1 Axes>"
      ]
     },
     "metadata": {},
     "output_type": "display_data"
    },
    {
     "data": {
      "image/png": "[encoded data removed]",
      "text/plain": [
       "<Figure size 640x480 with 1 Axes>"
      ]
     },
     "metadata": {},
     "output_type": "display_data"
    }
   ],
   "source": [
    "plt.hist(bugfix_files['Semantic_Similarity'], bins=30)\n",
    "plt.title('Semantic Similarity Distribution')\n",
    "plt.xlabel('Semantic Similarity')\n",
    "plt.ylabel('Frequency')\n",
    "plt.yscale('log')\n",
    "plt.show()\n",
    "plt.hist(bugfix_files['Token_Similarity'], bins=30)\n",
    "plt.title('Token Similarity Distribution')\n",
    "plt.xlabel('Token Similarity')\n",
    "plt.ylabel('Frequency')\n",
    "plt.yscale('log')\n",
    "plt.show()"
   ]
  },
  {
   "cell_type": "code",
   "execution_count": 20,
   "id": "668b5b25",
   "metadata": {},
   "outputs": [
    {
     "data": {
      "image/png": "[encoded data removed]",
      "text/plain": [
       "<Figure size 640x480 with 1 Axes>"
      ]
     },
     "metadata": {},
     "output_type": "display_data"
    }
   ],
   "source": [
    "plt.plot(bugfix_files['Semantic_Similarity'], bugfix_files['Token_Similarity'], 'o', alpha=0.5)\n",
    "plt.title('Semantic Similarity vs Token Similarity')\n",
    "plt.xlabel('Semantic Similarity')\n",
    "plt.ylabel('Token Similarity')\n",
    "plt.show()"
   ]
  },
  {
   "cell_type": "code",
   "execution_count": null,
   "id": "bf13425f",
   "metadata": {},
   "outputs": [],
   "source": [
    "# bugfix_files = pd.read_csv('bugfix_commit_files_MI_CC_LOC_Added_Similarity.csv')\n",
    "bugfix_files.to_csv(\"bugfix_commit_files_MI_CC_LOC_Added_Similarity.csv\")"
   ]
  },
  {
   "cell_type": "code",
   "execution_count": 19,
   "id": "fdcfff84",
   "metadata": {},
   "outputs": [
    {
     "data": {
      "text/html": [
       "<div>\n",
       "<style scoped>\n",
       "    .dataframe tbody tr th:only-of-type {\n",
       "        vertical-align: middle;\n",
       "    }\n",
       "\n",
       "    .dataframe tbody tr th {\n",
       "        vertical-align: top;\n",
       "    }\n",
       "\n",
       "    .dataframe thead th {\n",
       "        text-align: right;\n",
       "    }\n",
       "</style>\n",
       "<table border=\"1\" class=\"dataframe\">\n",
       "  <thead>\n",
       "    <tr style=\"text-align: right;\">\n",
       "      <th></th>\n",
       "      <th>Semantic_Similarity</th>\n",
       "      <th>Token_Similarity</th>\n",
       "    </tr>\n",
       "  </thead>\n",
       "  <tbody>\n",
       "    <tr>\n",
       "      <th>Semantic_Similarity</th>\n",
       "      <td>1.000000</td>\n",
       "      <td>0.658988</td>\n",
       "    </tr>\n",
       "    <tr>\n",
       "      <th>Token_Similarity</th>\n",
       "      <td>0.658988</td>\n",
       "      <td>1.000000</td>\n",
       "    </tr>\n",
       "  </tbody>\n",
       "</table>\n",
       "</div>"
      ],
      "text/plain": [
       "                     Semantic_Similarity  Token_Similarity\n",
       "Semantic_Similarity             1.000000          0.658988\n",
       "Token_Similarity                0.658988          1.000000"
      ]
     },
     "execution_count": 19,
     "metadata": {},
     "output_type": "execute_result"
    }
   ],
   "source": [
    "bugfix_files[['Semantic_Similarity', 'Token_Similarity']].corr()"
   ]
  },
  {
   "cell_type": "code",
   "execution_count": 31,
   "id": "26a455fa",
   "metadata": {},
   "outputs": [],
   "source": [
    "bugfix_files['Semantic_class'] = bugfix_files['Semantic_Similarity'].apply(lambda x: \"Major\" if x > 0.8 else \"Minor\")\n",
    "bugfix_files['Token_class'] = bugfix_files['Token_Similarity'].apply(lambda x: \"Major\" if x > 0.6 else \"Minor\")\n",
    "bugfix_files['Classes Agree'] = bugfix_files['Semantic_class'] == bugfix_files['Token_class']"
   ]
  },
  {
   "cell_type": "code",
   "execution_count": 32,
   "id": "369548e9",
   "metadata": {},
   "outputs": [
    {
     "data": {
      "text/plain": [
       "0.9671787709497207"
      ]
     },
     "execution_count": 32,
     "metadata": {},
     "output_type": "execute_result"
    }
   ],
   "source": [
    "bugfix_files['Classes Agree'].mean()"
   ]
  },
  {
   "cell_type": "code",
   "execution_count": 33,
   "id": "959f00a4",
   "metadata": {},
   "outputs": [
    {
     "data": {
      "text/plain": [
       "Semantic_class\n",
       "Major    1400\n",
       "Minor      32\n",
       "Name: count, dtype: int64"
      ]
     },
     "execution_count": 33,
     "metadata": {},
     "output_type": "execute_result"
    }
   ],
   "source": [
    "bugfix_files['Semantic_class'].value_counts()"
   ]
  },
  {
   "cell_type": "code",
   "execution_count": 34,
   "id": "eb70302d",
   "metadata": {},
   "outputs": [
    {
     "data": {
      "text/plain": [
       "Token_class\n",
       "Major    1353\n",
       "Minor      79\n",
       "Name: count, dtype: int64"
      ]
     },
     "execution_count": 34,
     "metadata": {},
     "output_type": "execute_result"
    }
   ],
   "source": [
    "bugfix_files['Token_class'].value_counts()"
   ]
  },
  {
   "cell_type": "code",
   "execution_count": 35,
   "id": "83a39b51",
   "metadata": {},
   "outputs": [
    {
     "data": {
      "text/plain": [
       "Classes Agree\n",
       "True     1385\n",
       "False      47\n",
       "Name: count, dtype: int64"
      ]
     },
     "execution_count": 35,
     "metadata": {},
     "output_type": "execute_result"
    }
   ],
   "source": [
    "bugfix_files['Classes Agree'].value_counts()"
   ]
  },
  {
   "cell_type": "code",
   "execution_count": 36,
   "id": "d6da5630",
   "metadata": {},
   "outputs": [],
   "source": [
    "bugfix_files.to_csv(\"bugfix_commit_files_MI_CC_LOC_Added_Similarity_Classes.csv\")"
   ]
  }
 ],
 "metadata": {
  "kernelspec": {
   "display_name": "cs202",
   "language": "python",
   "name": "python3"
  },
  "language_info": {
   "codemirror_mode": {
    "name": "ipython",
    "version": 3
   },
   "file_extension": ".py",
   "mimetype": "text/x-python",
   "name": "python",
   "nbconvert_exporter": "python",
   "pygments_lexer": "ipython3",
   "version": "3.11.13"
  }
 },
 "nbformat": 4,
 "nbformat_minor": 5
}
